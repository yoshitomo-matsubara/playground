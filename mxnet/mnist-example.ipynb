{
 "cells": [
  {
   "cell_type": "code",
   "execution_count": 1,
   "metadata": {
    "scrolled": true
   },
   "outputs": [],
   "source": [
    "from time import time\n",
    "import math\n",
    "import mxnet as mx\n",
    "from mxnet import gluon\n",
    "from mxnet.gluon import nn\n",
    "from mxnet.gluon.data.vision import datasets, transforms\n",
    "from mxnet.gluon.data import Sampler, RandomSampler"
   ]
  },
  {
   "cell_type": "code",
   "execution_count": 2,
   "metadata": {},
   "outputs": [],
   "source": [
    "class AdvSequentialSampler(Sampler):\n",
    "    \"\"\"Samples elements from [0, length) sequentially.\n",
    "\n",
    "    Parameters\n",
    "    ----------\n",
    "    length : int\n",
    "        Length of the sequence.\n",
    "    \"\"\"\n",
    "    def __init__(self, length, start_idx):\n",
    "        self._length = length\n",
    "        self._start_idx = start_idx\n",
    "\n",
    "\n",
    "    def __iter__(self):\n",
    "        return iter(range(self._start_idx, self._length + self._start_idx))\n",
    "\n",
    "    def __len__(self):\n",
    "        return self._length"
   ]
  },
  {
   "cell_type": "code",
   "execution_count": 3,
   "metadata": {},
   "outputs": [],
   "source": [
    "transform = transforms.Compose([\n",
    "        transforms.ToTensor(),\n",
    "        transforms.Normalize(0.13, 0.31)])\n",
    "\n",
    "org_train_data = datasets.MNIST(train=True)\n",
    "valid_rate = 0.1\n",
    "org_length = len(org_train_data)\n",
    "batch_size = 128\n",
    "end_idx = int(org_length * (1 - valid_rate))\n",
    "train_dataloader = gluon.data.DataLoader(\n",
    "    org_train_data.transform_first(transform), sampler=RandomSampler(end_idx),\n",
    "    batch_size=batch_size, num_workers=4)\n",
    "valid_dataloader = gluon.data.DataLoader(\n",
    "    org_train_data.transform_first(transform), sampler=AdvSequentialSampler(org_length - end_idx, end_idx),\n",
    "    batch_size=batch_size, num_workers=4)\n",
    "test_dataloader = gluon.data.DataLoader(\n",
    "    datasets.MNIST(train=False).transform_first(transform),\n",
    "    batch_size=batch_size, num_workers=4)"
   ]
  },
  {
   "cell_type": "code",
   "execution_count": 4,
   "metadata": {},
   "outputs": [],
   "source": [
    "ctx = mx.gpu() if mx.context.num_gpus() else mx.cpu()\n",
    "model = nn.HybridSequential()\n",
    "with model.name_scope():\n",
    "    model.add(\n",
    "        nn.Conv2D(6, kernel_size=5, activation='relu'),\n",
    "        nn.MaxPool2D(pool_size=(2, 2)),\n",
    "        nn.Conv2D(16, kernel_size=5, activation='relu'),\n",
    "        nn.MaxPool2D(pool_size=(2, 2)),\n",
    "        nn.Flatten(),\n",
    "        nn.Dense(120, activation='relu'),\n",
    "        nn.Dense(84, activation='relu'),\n",
    "        nn.Dense(10)\n",
    "    )\n",
    "model.hybridize()\n",
    "model.initialize(ctx=ctx)"
   ]
  },
  {
   "cell_type": "code",
   "execution_count": 5,
   "metadata": {},
   "outputs": [],
   "source": [
    "loss_fn = gluon.loss.SoftmaxCrossEntropyLoss()\n",
    "max_epoch = 10\n",
    "step = max_epoch * math.ceil(end_idx / batch_size)\n",
    "lr_sch = mx.lr_scheduler.FactorScheduler(step=step, factor=0.1)\n",
    "sgd_optimizer = mx.optimizer.SGD(learning_rate=0.1, lr_scheduler=lr_sch)\n",
    "trainer = gluon.Trainer(model.collect_params(), optimizer=sgd_optimizer)\n",
    "metric = mx.metric.Accuracy()"
   ]
  },
  {
   "cell_type": "code",
   "execution_count": 6,
   "metadata": {},
   "outputs": [],
   "source": [
    "def validate(model, dataloader, metric, mode='Validation'):\n",
    "    metric.reset()\n",
    "    for sample_batch, labels in dataloader:\n",
    "        sample_batch = sample_batch.as_in_context(ctx)\n",
    "        labels = labels.as_in_context(ctx)\n",
    "        preds = model(sample_batch)\n",
    "        metric.update(labels=labels, preds=preds)\n",
    "    \n",
    "    acc = metric.get()[1]\n",
    "    print('\\t\\t{} accuracy {:2.5f}'.format(mode, acc))\n",
    "    return acc"
   ]
  },
  {
   "cell_type": "code",
   "execution_count": 7,
   "metadata": {},
   "outputs": [
    {
     "name": "stdout",
     "output_type": "stream",
     "text": [
      "[Epoch 1]\tAvg. loss: 0.7597\tTime: 11.51\n",
      "\t\tValidation accuracy 0.94767\n",
      "[Epoch 2]\tAvg. loss: 0.1035\tTime: 11.44\n",
      "\t\tValidation accuracy 0.97900\n",
      "[Epoch 3]\tAvg. loss: 0.0697\tTime: 11.39\n",
      "\t\tValidation accuracy 0.98267\n",
      "[Epoch 4]\tAvg. loss: 0.0527\tTime: 11.94\n",
      "\t\tValidation accuracy 0.98200\n",
      "[Epoch 5]\tAvg. loss: 0.0429\tTime: 12.14\n",
      "\t\tValidation accuracy 0.98667\n",
      "[Epoch 6]\tAvg. loss: 0.0352\tTime: 13.42\n",
      "\t\tValidation accuracy 0.98617\n",
      "[Epoch 7]\tAvg. loss: 0.0310\tTime: 12.81\n",
      "\t\tValidation accuracy 0.98750\n",
      "[Epoch 8]\tAvg. loss: 0.0258\tTime: 13.76\n",
      "\t\tValidation accuracy 0.98717\n",
      "[Epoch 9]\tAvg. loss: 0.0223\tTime: 14.96\n",
      "\t\tValidation accuracy 0.98433\n",
      "[Epoch 10]\tAvg. loss: 0.0199\tTime: 14.13\n",
      "\t\tValidation accuracy 0.98767\n"
     ]
    }
   ],
   "source": [
    "best_acc = 0\n",
    "best_epoch = 0\n",
    "base_name = 'model'\n",
    "ckpt_file_path = base_name + '.ckpt'\n",
    "for epoch in range(max_epoch):\n",
    "    total_loss = .0\n",
    "    tic = time()\n",
    "    for sample_batch, labels in train_dataloader:\n",
    "        sample_batch = sample_batch.as_in_context(ctx)\n",
    "        labels = labels.as_in_context(ctx)\n",
    "        with mx.autograd.record():\n",
    "            loss = loss_fn(model(sample_batch), labels)\n",
    "        loss.backward()\n",
    "        trainer.step(len(sample_batch))\n",
    "        total_loss += loss.sum().asscalar()\n",
    "        \n",
    "    print('[Epoch {}]\\tAvg. loss: {:2.4f}\\tTime: {:2.2f}'.format(epoch + 1, total_loss/end_idx, time()-tic))\n",
    "    acc = validate(model, valid_dataloader, metric)\n",
    "    if acc > best_acc:\n",
    "        best_acc = acc\n",
    "        best_epoch = epoch\n",
    "        model.export(base_name, epoch=epoch)"
   ]
  },
  {
   "cell_type": "code",
   "execution_count": 8,
   "metadata": {
    "scrolled": true
   },
   "outputs": [
    {
     "name": "stdout",
     "output_type": "stream",
     "text": [
      "\t\tTest accuracy 0.98950\n"
     ]
    },
    {
     "data": {
      "text/plain": [
       "0.9895"
      ]
     },
     "execution_count": 8,
     "metadata": {},
     "output_type": "execute_result"
    }
   ],
   "source": [
    "validate(model, test_dataloader, metric, 'Test')"
   ]
  },
  {
   "cell_type": "code",
   "execution_count": 9,
   "metadata": {},
   "outputs": [
    {
     "name": "stdout",
     "output_type": "stream",
     "text": [
      "Loading with json and params files\n",
      "\t\tTest accuracy 0.98950\n"
     ]
    },
    {
     "data": {
      "text/plain": [
       "0.9895"
      ]
     },
     "execution_count": 9,
     "metadata": {},
     "output_type": "execute_result"
    }
   ],
   "source": [
    "print('Loading with json and params files')\n",
    "model = gluon.nn.SymbolBlock.imports(base_name + '-symbol.json', ['data'], '{}-{:04d}.params'.format(base_name, best_epoch), ctx=ctx)\n",
    "validate(model, test_dataloader, metric, 'Test')"
   ]
  }
 ],
 "metadata": {
  "kernelspec": {
   "display_name": "Python 3",
   "language": "python",
   "name": "python3"
  },
  "language_info": {
   "codemirror_mode": {
    "name": "ipython",
    "version": 3
   },
   "file_extension": ".py",
   "mimetype": "text/x-python",
   "name": "python",
   "nbconvert_exporter": "python",
   "pygments_lexer": "ipython3",
   "version": "3.6.8"
  }
 },
 "nbformat": 4,
 "nbformat_minor": 2
}
